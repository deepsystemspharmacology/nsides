{
 "cells": [
  {
   "cell_type": "code",
   "execution_count": 2,
   "metadata": {
    "collapsed": true
   },
   "outputs": [],
   "source": [
    "import sys\n",
    "import pymongo\n",
    "# import pymysql"
   ]
  },
  {
   "cell_type": "code",
   "execution_count": 3,
   "metadata": {
    "collapsed": false
   },
   "outputs": [
    {
     "name": "stderr",
     "output_type": "stream",
     "text": [
      "Loading password from ../nsides-mongo.cnf...\n",
      "[u'estimates']\n",
      "13298882\n"
     ]
    }
   ],
   "source": [
    "# Mongo login\n",
    "EXTRACTED_DIR = './results/extracted'\n",
    "REFERNCE_DIR = './reference'\n",
    "MONGODB_HOST = 'localhost'\n",
    "MONGODB_PORT = 27017\n",
    "\n",
    "print >> sys.stderr, \"Loading password from ../nsides-mongo.cnf...\"\n",
    "MONGODB_HOST, MONGODB_UN, MONGODB_PW = open('../nsides-mongo.cnf').read().strip().split('\\n')\n",
    "\n",
    "# print >> sys.stderr, \"Reading the 'nsides' mongodb at %s:%s\" % (MONGODB_HOST, MONGODB_PORT)\n",
    "\n",
    "client = pymongo.MongoClient('mongodb://%s:%s@%s:%s/admin' % (MONGODB_UN, MONGODB_PW, MONGODB_HOST, MONGODB_PORT))\n",
    "db = client.nsides\n",
    "estimates = db.estimates\n",
    "\n",
    "print >> sys.stderr, \"%s\" % db.collection_names()\n",
    "print >> sys.stderr, \"%s\" % str(estimates.count())"
   ]
  },
  {
   "cell_type": "code",
   "execution_count": 4,
   "metadata": {
    "collapsed": false
   },
   "outputs": [],
   "source": [
    "# # Collect all distinct drug_concept_ids in MongoDB\n",
    "# all_drugs = db.estimates.distinct('rxnorm')\n",
    "# print len(all_drugs), \"drugs total\""
   ]
  },
  {
   "cell_type": "code",
   "execution_count": 36,
   "metadata": {
    "collapsed": true
   },
   "outputs": [],
   "source": [
    "from operator import itemgetter"
   ]
  },
  {
   "cell_type": "code",
   "execution_count": 49,
   "metadata": {
    "collapsed": false,
    "scrolled": true
   },
   "outputs": [
    {
     "name": "stdout",
     "output_type": "stream",
     "text": [
      "386 total outcomes\n",
      "[(4196636, 0.21990975686176242, 5.856659973575264), (437643, 0.24179095962753241, 4.265911962700705), (40481354, 0.2498549259340961, 7.001459601803012), (4223938, 0.2499017158516437, 2.029014702529942), (376337, 0.2695418863455886, 6.915132839445399)]\n"
     ]
    },
    {
     "data": {
      "text/plain": [
       "[4196636, 437643, 40481354, 4223938, 376337]"
      ]
     },
     "execution_count": 49,
     "metadata": {},
     "output_type": "execute_result"
    }
   ],
   "source": [
    "num_results = 5\n",
    "\n",
    "estimate_record = estimates.find(\n",
    "                    { '$and':\n",
    "                        [ { 'rxnorm': 19097016 },\n",
    "                          { 'model': 'dnn' }\n",
    "                        ]\n",
    "                    });\n",
    "\n",
    "all_outcomes = []\n",
    "for record in estimate_record:\n",
    "    for estimate in record[u'estimates']:\n",
    "        if estimate[u'year'] == 2016:\n",
    "            all_outcomes.append((int(record[u'snomed']), estimate[u'ci'], estimate[u'prr']))\n",
    "            # print record[u'snomed'], estimate[u'prr']\n",
    "            # all_outcomes.append((record[u'snomed'], estimate[u'prr']))\n",
    "            \n",
    "print len(all_outcomes), \"total outcomes\"\n",
    "\n",
    "# sorted(all_outcomes,key=itemgetter(1), reverse=True)[:num_results]\n",
    "top_results = sorted(all_outcomes,key=itemgetter(1))[:num_results]\n",
    "print top_results\n",
    "top_outcome_ids = [r[0] for r in top_results]\n",
    "top_outcome_ids"
   ]
  }
 ],
 "metadata": {
  "kernelspec": {
   "display_name": "Python 2",
   "language": "python",
   "name": "python2"
  },
  "language_info": {
   "codemirror_mode": {
    "name": "ipython",
    "version": 2
   },
   "file_extension": ".py",
   "mimetype": "text/x-python",
   "name": "python",
   "nbconvert_exporter": "python",
   "pygments_lexer": "ipython2",
   "version": "2.7.9"
  }
 },
 "nbformat": 4,
 "nbformat_minor": 0
}
