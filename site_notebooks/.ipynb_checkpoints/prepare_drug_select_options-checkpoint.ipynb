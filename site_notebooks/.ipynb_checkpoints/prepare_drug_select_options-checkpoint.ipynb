{
 "cells": [
  {
   "cell_type": "markdown",
   "metadata": {},
   "source": [
    "This notebook collects all distinct `drug_concept_id`s in the MongoDB and maps them to drug names in the MySQL `concept` table. It then creates a Javascript file to populate the drug selection box."
   ]
  },
  {
   "cell_type": "code",
   "execution_count": 1,
   "metadata": {
    "collapsed": true
   },
   "outputs": [],
   "source": [
    "import sys\n",
    "import pymongo\n",
    "import pymysql"
   ]
  },
  {
   "cell_type": "code",
   "execution_count": 2,
   "metadata": {
    "collapsed": false
   },
   "outputs": [
    {
     "name": "stderr",
     "output_type": "stream",
     "text": [
      "Loading password from ../nsides-mongo.cnf...\n",
      "[u'estimates']\n",
      "13298882\n"
     ]
    }
   ],
   "source": [
    "# Mongo login\n",
    "EXTRACTED_DIR = './results/extracted'\n",
    "REFERNCE_DIR = './reference'\n",
    "MONGODB_HOST = 'localhost'\n",
    "MONGODB_PORT = 27017\n",
    "\n",
    "print >> sys.stderr, \"Loading password from ../nsides-mongo.cnf...\"\n",
    "MONGODB_HOST, MONGODB_UN, MONGODB_PW = open('../nsides-mongo.cnf').read().strip().split('\\n')\n",
    "\n",
    "# print >> sys.stderr, \"Reading the 'nsides' mongodb at %s:%s\" % (MONGODB_HOST, MONGODB_PORT)\n",
    "\n",
    "client = pymongo.MongoClient('mongodb://%s:%s@%s:%s/admin' % (MONGODB_UN, MONGODB_PW, MONGODB_HOST, MONGODB_PORT))\n",
    "db = client.nsides\n",
    "estimates = db.estimates\n",
    "\n",
    "print >> sys.stderr, \"%s\" % db.collection_names()\n",
    "print >> sys.stderr, \"%s\" % str(estimates.count())"
   ]
  },
  {
   "cell_type": "code",
   "execution_count": 3,
   "metadata": {
    "collapsed": false
   },
   "outputs": [
    {
     "name": "stdout",
     "output_type": "stream",
     "text": [
      "Connecting to MySQL database\n"
     ]
    }
   ],
   "source": [
    "# MySQL login\n",
    "print \"Connecting to MySQL database\"\n",
    "\n",
    "conn = pymysql.connect(read_default_file='../nsides.cnf',\n",
    "                        db='ebdb',\n",
    "                        charset='utf8mb4',\n",
    "                        cursorclass=pymysql.cursors.DictCursor)\n",
    "cur = conn.cursor()"
   ]
  },
  {
   "cell_type": "code",
   "execution_count": 4,
   "metadata": {
    "collapsed": false
   },
   "outputs": [
    {
     "name": "stdout",
     "output_type": "stream",
     "text": [
      "1859 drugs total\n"
     ]
    }
   ],
   "source": [
    "# Collect all distinct drug_concept_ids in MongoDB\n",
    "all_drugs = db.estimates.distinct('rxnorm')\n",
    "print len(all_drugs), \"drugs total\""
   ]
  },
  {
   "cell_type": "code",
   "execution_count": 5,
   "metadata": {
    "collapsed": false
   },
   "outputs": [
    {
     "name": "stdout",
     "output_type": "stream",
     "text": [
      "1859 drugs mapped\n"
     ]
    }
   ],
   "source": [
    "# Collect drug names from MySQL\n",
    "drugname2concept_id = dict()\n",
    "\n",
    "SQL = '''select concept_id, concept_name\n",
    "         from concept\n",
    "         where concept_id in %s''' %str(tuple(all_drugs))\n",
    "cur.execute(SQL)\n",
    "results = cur.fetchall()\n",
    "\n",
    "for result in results:\n",
    "    drug_concept_id = result[u'concept_id']\n",
    "    drugname = result[u'concept_name'].encode('ascii','ignore').capitalize()\n",
    "    \n",
    "    drugname2concept_id[drugname] = drug_concept_id\n",
    "\n",
    "print len(drugname2concept_id), \"drugs mapped\""
   ]
  },
  {
   "cell_type": "code",
   "execution_count": 6,
   "metadata": {
    "collapsed": false
   },
   "outputs": [],
   "source": [
    "# Write to file\n",
    "f = open('../index/js/drugs.js', 'w')\n",
    "f.write('var drugs = [\\n')\n",
    "for drugname in sorted(drugname2concept_id.keys()):\n",
    "    f.write('{ value: \"%d\", label: \"%s\" },\\n' %(drugname2concept_id[drugname], drugname))\n",
    "    \n",
    "f.write('];')\n",
    "f.close()"
   ]
  },
  {
   "cell_type": "code",
   "execution_count": 7,
   "metadata": {
    "collapsed": true
   },
   "outputs": [],
   "source": [
    "cur.close()\n",
    "conn.close()"
   ]
  },
  {
   "cell_type": "code",
   "execution_count": null,
   "metadata": {
    "collapsed": true
   },
   "outputs": [],
   "source": []
  }
 ],
 "metadata": {
  "kernelspec": {
   "display_name": "Python 2",
   "language": "python",
   "name": "python2"
  },
  "language_info": {
   "codemirror_mode": {
    "name": "ipython",
    "version": 2
   },
   "file_extension": ".py",
   "mimetype": "text/x-python",
   "name": "python",
   "nbconvert_exporter": "python",
   "pygments_lexer": "ipython2",
   "version": "2.7.9"
  }
 },
 "nbformat": 4,
 "nbformat_minor": 0
}
